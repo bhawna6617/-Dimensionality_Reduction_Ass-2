{
 "cells": [
  {
   "cell_type": "markdown",
   "id": "8f760781",
   "metadata": {},
   "source": [
    "# quest 1"
   ]
  },
  {
   "cell_type": "code",
   "execution_count": 1,
   "id": "453eac1d",
   "metadata": {},
   "outputs": [],
   "source": [
    "# Eigenvalues and eigenvectors are concepts from linear algebra that play a fundamental role in various mathematical and computational applications, including the Eigen-Decomposition approach used in Principal Component Analysis (PCA).\n",
    "\n",
    "# Eigenvalues and Eigenvectors:\n",
    "# Eigenvalues: Eigenvalues are scalar values that represent how much a linear transformation (such as a matrix operation) stretches or contracts a corresponding eigenvector.\n",
    "# Eigenvectors: Eigenvectors are non-zero vectors that remain in the same direction after a linear transformation, only being scaled by a factor (the eigenvalue).\n",
    "# Eigen-Decomposition:\n",
    "# Eigen-Decomposition: Eigen-Decomposition is a process of decomposing a square matrix into a set of eigenvectors and eigenvalues.\n",
    "# Formula: For a square matrix \n",
    "# 𝐴\n",
    "# A, the Eigen-Decomposition is represented as \n",
    "\n",
    "# A=QΛQ \n",
    "# −1\n",
    "#  , where \n",
    "# 𝑄\n",
    "# Q is a matrix containing the eigenvectors of \n",
    "# 𝐴\n",
    "# A as columns, and \n",
    "# Λ\n",
    "# Λ is a diagonal matrix containing the corresponding eigenvalues.\n",
    "# Relationship between Eigenvalues, Eigenvectors, and Eigen-Decomposition:\n",
    "# Eigenvectors: Eigenvectors are the directions in which a linear transformation represented by a matrix does not change direction but only scales (by its corresponding eigenvalue).\n",
    "# Eigenvalues: Eigenvalues quantify how much the eigenvectors are scaled during the transformation. Larger eigenvalues correspond to greater stretching or compression along the associated eigenvector direction.\n",
    "# Eigen-Decomposition: Eigen-Decomposition decomposes a matrix into its constituent eigenvectors and eigenvalues, allowing us to understand how the matrix transforms space and to perform operations efficiently."
   ]
  },
  {
   "cell_type": "markdown",
   "id": "9fbd8ee1",
   "metadata": {},
   "source": [
    "# quest 2"
   ]
  },
  {
   "cell_type": "code",
   "execution_count": 2,
   "id": "d3b1ad86",
   "metadata": {},
   "outputs": [],
   "source": [
    "\n",
    "# Eigen decomposition, also known as spectral decomposition, is a fundamental concept in linear algebra. It involves decomposing a square matrix into its eigenvalues and eigenvectors. This decomposition provides insight into the properties and behavior of the matrix, enabling various applications in science, engineering, and data analysis."
   ]
  },
  {
   "cell_type": "markdown",
   "id": "d0d5d8a3",
   "metadata": {},
   "source": [
    "# quest 3"
   ]
  },
  {
   "cell_type": "code",
   "execution_count": 3,
   "id": "6e6bfa28",
   "metadata": {},
   "outputs": [],
   "source": [
    "# For a square matrix to be diagonalizable using the Eigen-Decomposition approach, it must satisfy certain conditions. Specifically, the matrix must have a sufficient number of linearly independent eigenvectors."
   ]
  },
  {
   "cell_type": "markdown",
   "id": "249fb8d5",
   "metadata": {},
   "source": [
    "# quest 4\n"
   ]
  },
  {
   "cell_type": "code",
   "execution_count": null,
   "id": "3f23da5f",
   "metadata": {},
   "outputs": [],
   "source": [
    "# Significance of the Spectral Theorem in Eigen-Decomposition\n",
    "# The spectral theorem is a key result in linear algebra and has profound implications for the Eigen-Decomposition approach. It provides conditions under which a matrix can be diagonalized and describes the form that such a diagonalization takes."
   ]
  }
 ],
 "metadata": {
  "kernelspec": {
   "display_name": "Python 3 (ipykernel)",
   "language": "python",
   "name": "python3"
  },
  "language_info": {
   "codemirror_mode": {
    "name": "ipython",
    "version": 3
   },
   "file_extension": ".py",
   "mimetype": "text/x-python",
   "name": "python",
   "nbconvert_exporter": "python",
   "pygments_lexer": "ipython3",
   "version": "3.11.5"
  }
 },
 "nbformat": 4,
 "nbformat_minor": 5
}
